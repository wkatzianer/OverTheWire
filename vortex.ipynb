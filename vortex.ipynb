{
  "nbformat": 4,
  "nbformat_minor": 0,
  "metadata": {
    "colab": {
      "name": "Untitled0.ipynb",
      "version": "0.3.2",
      "provenance": [],
      "collapsed_sections": [],
      "include_colab_link": true
    },
    "kernelspec": {
      "name": "python3",
      "display_name": "Python 3"
    }
  },
  "cells": [
    {
      "cell_type": "markdown",
      "metadata": {
        "id": "view-in-github",
        "colab_type": "text"
      },
      "source": [
        "[View in Colaboratory](https://colab.research.google.com/github/wkatzianer/OverTheWire/blob/master/vortex.ipynb)"
      ]
    },
    {
      "metadata": {
        "id": "FpyDIwlVTiNe",
        "colab_type": "code",
        "colab": {}
      },
      "cell_type": "code",
      "source": [
        "import socket\n",
        "import struct\n",
        "\n",
        "def Vortex0():\n",
        "  s = socket.socket()\t# Create a socket object\n",
        "  host = socket.gethostbyname('vortex.labs.overthewire.org')\n",
        "  print(host)\n",
        "  port = 5842  \n",
        "\n",
        "  try:\n",
        "    s.connect((host, port))\n",
        "  except:\n",
        "    print('Failed to connect.  Exiting...')\n",
        "    return(-1)\n",
        "\n",
        "  print ('Connected.  Socket is' + str(s))\n",
        " \n",
        "  # Read data from the socket\n",
        "  tmp = 0\n",
        "  for count in range(0,4):\n",
        "    data = struct.unpack(\"I\", s.recv(4)) # Receive 4 bytes, and convert to uint\n",
        "    tmp = tmp + data[0]\n",
        "    \n",
        "  print ('The magic number is: ' + str(tmp))\n",
        "  \n",
        "  data = struct.pack(\"I\", tmp)\n",
        "  s.send(data)\n",
        "\n",
        "  print(s.recv(50))\n",
        "\n",
        "  s.close()\n",
        "  return(0)\n",
        "  \n",
        "# Main part of the program\n",
        "status = Vortex0()"
      ],
      "execution_count": 0,
      "outputs": []
    },
    {
      "metadata": {
        "id": "bCSeNrkktgpy",
        "colab_type": "code",
        "colab": {}
      },
      "cell_type": "code",
      "source": [
        ""
      ],
      "execution_count": 0,
      "outputs": []
    }
  ]
}